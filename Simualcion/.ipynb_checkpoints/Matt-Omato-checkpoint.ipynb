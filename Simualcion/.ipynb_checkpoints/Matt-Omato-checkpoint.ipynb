{
 "cells": [
  {
   "cell_type": "code",
   "execution_count": 1,
   "metadata": {},
   "outputs": [],
   "source": [
    "import sim\n",
    "import numpy as np\n",
    "import math"
   ]
  },
  {
   "cell_type": "code",
   "execution_count": 2,
   "metadata": {},
   "outputs": [],
   "source": [
    "def connect(port):\n",
    "# Establece la conexión a COPPELIA\n",
    "# El port debe coincidir con el puerto de conexión en VREP  -- DALE AL PLAY !!!\n",
    "# retorna el número de cliente o -1 si no puede establecer conexión\n",
    "    sim.simxFinish(-1) # just in case, close all opened connections\n",
    "    clientID=sim.simxStart('127.0.0.1',port,True,True,2000,5) # Conectarse\n",
    "    if clientID == 0: print(\"conectado a\", port)\n",
    "    else: print(\"no se pudo conectar\")\n",
    "    return clientID"
   ]
  },
  {
   "cell_type": "code",
   "execution_count": 3,
   "metadata": {},
   "outputs": [
    {
     "name": "stdout",
     "output_type": "stream",
     "text": [
      "conectado a 19999\n"
     ]
    }
   ],
   "source": [
    "clientID = connect(19999)"
   ]
  },
  {
   "cell_type": "code",
   "execution_count": 4,
   "metadata": {},
   "outputs": [
    {
     "name": "stdout",
     "output_type": "stream",
     "text": [
      "0\n"
     ]
    }
   ],
   "source": [
    "returnCode,handle=sim.simxGetObjectHandle(clientID,'Dummy',sim.simx_opmode_blocking)\n",
    "dummy = handle\n",
    "print(dummy)"
   ]
  },
  {
   "cell_type": "code",
   "execution_count": 5,
   "metadata": {},
   "outputs": [
    {
     "name": "stdout",
     "output_type": "stream",
     "text": [
      "[-0.7069584131240845, 2.688093662261963, 0.3490259051322937]\n"
     ]
    }
   ],
   "source": [
    "returnCode,pos=sim.simxGetObjectPosition(clientID, dummy, -1, sim.simx_opmode_blocking)\n",
    "print(pos)"
   ]
  },
  {
   "cell_type": "code",
   "execution_count": 6,
   "metadata": {},
   "outputs": [],
   "source": [
    "ret,Joint_Base0=sim.simxGetObjectHandle(clientID,'Joint_Base0',sim.simx_opmode_blocking)\n",
    "ret,Joint_Hombro0=sim.simxGetObjectHandle(clientID,'Joint_Hombro0',sim.simx_opmode_blocking)\n",
    "ret,Joint_Codo0=sim.simxGetObjectHandle(clientID,'Joint_Codo0',sim.simx_opmode_blocking)\n",
    "ret,Joint_Muneca0=sim.simxGetObjectHandle(clientID,'Joint_Muneca0',sim.simx_opmode_blocking)"
   ]
  },
  {
   "cell_type": "code",
   "execution_count": 7,
   "metadata": {},
   "outputs": [
    {
     "name": "stdout",
     "output_type": "stream",
     "text": [
      "16 23 22 20 24 36\n"
     ]
    }
   ],
   "source": [
    "ret,Joint_Base=sim.simxGetObjectHandle(clientID,'Joint_Base',sim.simx_opmode_blocking)\n",
    "ret,Joint_Hombro=sim.simxGetObjectHandle(clientID,'Joint_Hombro',sim.simx_opmode_blocking)\n",
    "ret,Joint_Codo=sim.simxGetObjectHandle(clientID,'Joint_Codo',sim.simx_opmode_blocking)\n",
    "ret,Joint_Muneca=sim.simxGetObjectHandle(clientID,'Joint_Muneca',sim.simx_opmode_blocking)\n",
    "ret,Joint_Rotacion=sim.simxGetObjectHandle(clientID,'Joint_Rotacion',sim.simx_opmode_blocking)\n",
    "ret,Joint_Cam=sim.simxGetObjectHandle(clientID,'Joint_Cam',sim.simx_opmode_blocking)\n",
    "print(Joint_Base, Joint_Hombro, Joint_Codo,Joint_Muneca,Joint_Rotacion,Joint_Cam)"
   ]
  },
  {
   "cell_type": "code",
   "execution_count": 8,
   "metadata": {},
   "outputs": [
    {
     "name": "stdout",
     "output_type": "stream",
     "text": [
      "1.2874603271484375e-05\n"
     ]
    }
   ],
   "source": [
    "returnCode, pos0 = sim.simxGetJointPosition(clientID, Joint_Base, sim.simx_opmode_blocking)\n",
    "print(pos0)"
   ]
  },
  {
   "cell_type": "code",
   "execution_count": 9,
   "metadata": {},
   "outputs": [
    {
     "name": "stdout",
     "output_type": "stream",
     "text": [
      "-9.5367431640625e-07\n"
     ]
    }
   ],
   "source": [
    "returnCode, pos1 = sim.simxGetJointPosition(clientID, Joint_Hombro, sim.simx_opmode_blocking)\n",
    "print(pos1)"
   ]
  },
  {
   "cell_type": "code",
   "execution_count": 10,
   "metadata": {},
   "outputs": [
    {
     "name": "stdout",
     "output_type": "stream",
     "text": [
      "-0.0017504692077636719\n"
     ]
    }
   ],
   "source": [
    "returnCode, pos2 = sim.simxGetJointPosition(clientID, Joint_Codo, sim.simx_opmode_blocking)\n",
    "print(pos2)"
   ]
  },
  {
   "cell_type": "code",
   "execution_count": 11,
   "metadata": {},
   "outputs": [
    {
     "name": "stdout",
     "output_type": "stream",
     "text": [
      "-0.0001373291015625\n"
     ]
    }
   ],
   "source": [
    "returnCode, pos3 = sim.simxGetJointPosition(clientID, Joint_Muneca, sim.simx_opmode_blocking)\n",
    "print(pos3)"
   ]
  },
  {
   "cell_type": "code",
   "execution_count": 12,
   "metadata": {},
   "outputs": [
    {
     "name": "stdout",
     "output_type": "stream",
     "text": [
      "-7.152557373046875e-07\n"
     ]
    }
   ],
   "source": [
    "returnCode, pos4 = sim.simxGetJointPosition(clientID, Joint_Rotacion, sim.simx_opmode_blocking)\n",
    "print(pos4)"
   ]
  },
  {
   "cell_type": "code",
   "execution_count": 13,
   "metadata": {},
   "outputs": [
    {
     "name": "stdout",
     "output_type": "stream",
     "text": [
      "1\n"
     ]
    }
   ],
   "source": [
    "q0 = 0 * np.pi/180\n",
    "returnCode = sim.simxSetJointTargetPosition(clientID, Joint_Base0, q0, sim.simx_opmode_oneshot)\n",
    "print(returnCode)"
   ]
  },
  {
   "cell_type": "code",
   "execution_count": 14,
   "metadata": {},
   "outputs": [
    {
     "name": "stdout",
     "output_type": "stream",
     "text": [
      "1\n"
     ]
    }
   ],
   "source": [
    "q1 = -50 * np.pi/180\n",
    "returnCode = sim.simxSetJointTargetPosition(clientID, Joint_Hombro0, q1, sim.simx_opmode_oneshot)\n",
    "print(returnCode)"
   ]
  },
  {
   "cell_type": "code",
   "execution_count": 15,
   "metadata": {},
   "outputs": [
    {
     "name": "stdout",
     "output_type": "stream",
     "text": [
      "1\n"
     ]
    }
   ],
   "source": [
    "q2 = 120 * np.pi/180\n",
    "returnCode = sim.simxSetJointTargetPosition(clientID, Joint_Codo0, q2, sim.simx_opmode_oneshot)\n",
    "print(returnCode)"
   ]
  },
  {
   "cell_type": "code",
   "execution_count": 16,
   "metadata": {},
   "outputs": [
    {
     "name": "stdout",
     "output_type": "stream",
     "text": [
      "1\n"
     ]
    }
   ],
   "source": [
    "q3 = -120 * np.pi/180\n",
    "returnCode = sim.simxSetJointTargetPosition(clientID, Joint_Muneca0, q3, sim.simx_opmode_oneshot)\n",
    "print(returnCode)"
   ]
  },
  {
   "cell_type": "code",
   "execution_count": 17,
   "metadata": {},
   "outputs": [
    {
     "name": "stdout",
     "output_type": "stream",
     "text": [
      "1\n"
     ]
    }
   ],
   "source": [
    "q4 = -20 * np.pi/180\n",
    "returnCode = sim.simxSetJointTargetPosition(clientID, Joint_Rotacion, q4, sim.simx_opmode_oneshot)\n",
    "print(returnCode)"
   ]
  },
  {
   "cell_type": "code",
   "execution_count": 18,
   "metadata": {},
   "outputs": [
    {
     "name": "stdout",
     "output_type": "stream",
     "text": [
      "1\n"
     ]
    }
   ],
   "source": [
    "q5 = -20 * np.pi/180\n",
    "returnCode = sim.simxSetJointTargetPosition(clientID, Joint_Cam, q5, sim.simx_opmode_oneshot)\n",
    "print(returnCode)"
   ]
  },
  {
   "cell_type": "code",
   "execution_count": 19,
   "metadata": {},
   "outputs": [
    {
     "name": "stdout",
     "output_type": "stream",
     "text": [
      "[-0.7069584131240845, 2.688093662261963, 0.3490259051322937]\n"
     ]
    }
   ],
   "source": [
    "returnCode,pos=sim.simxGetObjectPosition(clientID, dummy, -1, sim.simx_opmode_blocking)\n",
    "print(pos)"
   ]
  },
  {
   "cell_type": "markdown",
   "metadata": {},
   "source": [
    "## Control ruedas\n"
   ]
  },
  {
   "cell_type": "code",
   "execution_count": 20,
   "metadata": {},
   "outputs": [],
   "source": [
    "def Delante(vel):\n",
    "    h=[0,0,0,0]\n",
    "    h[0]=sim.simxGetObjectHandle(clientID,'Joint_DD0',sim.simx_opmode_blocking)\n",
    "    h[1]=sim.simxGetObjectHandle(clientID,'Joint_DI0',sim.simx_opmode_blocking)\n",
    "    h[2]=sim.simxGetObjectHandle(clientID,'Joint_TI0',sim.simx_opmode_blocking)\n",
    "    h[3]=sim.simxGetObjectHandle(clientID,'Joint_TD0',sim.simx_opmode_blocking)\n",
    "    v1=vel*math.pi/180\n",
    "    \n",
    "    sim.simxSetJointTargetVelocity(clientID, h[0][1], v1, sim.simx_opmode_oneshot)\n",
    "    sim.simxSetJointTargetVelocity(clientID, h[1][1], v1, sim.simx_opmode_oneshot)\n",
    "    sim.simxSetJointTargetVelocity(clientID, h[2][1], v1, sim.simx_opmode_oneshot)\n",
    "    sim.simxSetJointTargetVelocity(clientID, h[3][1], v1, sim.simx_opmode_oneshot)\n"
   ]
  },
  {
   "cell_type": "code",
   "execution_count": 21,
   "metadata": {},
   "outputs": [],
   "source": [
    "def Atras(vel):\n",
    "    h=[0,0,0,0]\n",
    "    h[0]=sim.simxGetObjectHandle(clientID,'Joint_DD0',sim.simx_opmode_blocking)\n",
    "    h[1]=sim.simxGetObjectHandle(clientID,'Joint_DI0',sim.simx_opmode_blocking)\n",
    "    h[2]=sim.simxGetObjectHandle(clientID,'Joint_TI0',sim.simx_opmode_blocking)\n",
    "    h[3]=sim.simxGetObjectHandle(clientID,'Joint_TD0',sim.simx_opmode_blocking)\n",
    "    v1=vel*math.pi/180\n",
    "    \n",
    "    sim.simxSetJointTargetVelocity(clientID, h[0][1], -v1, sim.simx_opmode_oneshot)\n",
    "    sim.simxSetJointTargetVelocity(clientID, h[1][1], -v1, sim.simx_opmode_oneshot)\n",
    "    sim.simxSetJointTargetVelocity(clientID, h[2][1], -v1, sim.simx_opmode_oneshot)\n",
    "    sim.simxSetJointTargetVelocity(clientID, h[3][1], -v1, sim.simx_opmode_oneshot)\n"
   ]
  },
  {
   "cell_type": "code",
   "execution_count": 22,
   "metadata": {},
   "outputs": [],
   "source": [
    "def Stop():\n",
    "    h=[0,0,0,0]\n",
    "    h[0]=sim.simxGetObjectHandle(clientID,'Joint_DD0',sim.simx_opmode_blocking)\n",
    "    h[1]=sim.simxGetObjectHandle(clientID,'Joint_DI0',sim.simx_opmode_blocking)\n",
    "    h[2]=sim.simxGetObjectHandle(clientID,'Joint_TI0',sim.simx_opmode_blocking)\n",
    "    h[3]=sim.simxGetObjectHandle(clientID,'Joint_TD0',sim.simx_opmode_blocking)\n",
    "    \n",
    "    sim.simxSetJointTargetVelocity(clientID, h[0][1], 0, sim.simx_opmode_oneshot)\n",
    "    sim.simxSetJointTargetVelocity(clientID, h[1][1], 0, sim.simx_opmode_oneshot)\n",
    "    sim.simxSetJointTargetVelocity(clientID, h[2][1], 0, sim.simx_opmode_oneshot)\n",
    "    sim.simxSetJointTargetVelocity(clientID, h[3][1], 0, sim.simx_opmode_oneshot)\n"
   ]
  },
  {
   "cell_type": "code",
   "execution_count": 23,
   "metadata": {},
   "outputs": [],
   "source": [
    "Delante(1000)"
   ]
  },
  {
   "cell_type": "code",
   "execution_count": 24,
   "metadata": {},
   "outputs": [],
   "source": [
    "Atras(1000)"
   ]
  },
  {
   "cell_type": "code",
   "execution_count": 25,
   "metadata": {},
   "outputs": [],
   "source": [
    "Stop()"
   ]
  },
  {
   "cell_type": "code",
   "execution_count": 129,
   "metadata": {},
   "outputs": [],
   "source": [
    "import numpy as np\n",
    "import sympy as sp\n",
    "from sympy import *\n",
    "from sympy.physics.vector import init_vprinting\n",
    "init_vprinting(use_latex='mathjax', pretty_print=False)"
   ]
  },
  {
   "cell_type": "code",
   "execution_count": 132,
   "metadata": {},
   "outputs": [
    {
     "data": {
      "text/latex": [
       "$\\displaystyle \\left( \\theta_{1}, \\  \\theta_{2}, \\  \\theta_{3}, \\  \\theta_{4}, \\  \\theta_{5}, \\  d_{3}, \\  lc, \\  l_{1}, \\  l_{2}, \\  l_{3}, \\  l_{4}, \\  l_{5}, \\  \\theta, \\  \\alpha, \\  a, \\  d\\right)$"
      ],
      "text/plain": [
       "(theta1, theta2, theta3, theta4, theta5, d3, lc, l1, l2, l3, l4, l5, theta, alpha, a, d)"
      ]
     },
     "execution_count": 132,
     "metadata": {},
     "output_type": "execute_result"
    }
   ],
   "source": [
    "from sympy.physics.mechanics import dynamicsymbols\n",
    "theta1, theta2,theta3, theta4,theta5, d3, l1, l2, l3,l4,l5, theta, alpha, a, d = dynamicsymbols('theta1 theta2 theta3 theta4 theta5 d3 l1 l2 l3 l4 l5 theta alpha a d')\n",
    "theta1, theta2,theta3, theta4,theta5, d3, lc,  l1, l2, l3,l4,l5, theta, alpha, a, d "
   ]
  },
  {
   "cell_type": "code",
   "execution_count": null,
   "metadata": {},
   "outputs": [],
   "source": []
  }
 ],
 "metadata": {
  "kernelspec": {
   "display_name": "Python 3",
   "language": "python",
   "name": "python3"
  },
  "language_info": {
   "codemirror_mode": {
    "name": "ipython",
    "version": 3
   },
   "file_extension": ".py",
   "mimetype": "text/x-python",
   "name": "python",
   "nbconvert_exporter": "python",
   "pygments_lexer": "ipython3",
   "version": "3.8.5"
  }
 },
 "nbformat": 4,
 "nbformat_minor": 4
}
